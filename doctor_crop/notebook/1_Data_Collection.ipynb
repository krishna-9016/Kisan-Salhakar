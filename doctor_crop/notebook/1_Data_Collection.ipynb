{
 "cells": [
  {
   "cell_type": "markdown",
   "id": "b5a5012b",
   "metadata": {},
   "source": [
    "Step 1: Initial Dataset Download"
   ]
  },
  {
   "cell_type": "markdown",
   "id": "ae959799",
   "metadata": {},
   "source": [
    "Objective: Download and extract the PlantVillage dataset from Kaggle.\n",
    "This dataset contains over 54,000 images of healthy and diseased plant leaves,\n",
    "serving as our foundational data for training the initial model. "
   ]
  },
  {
   "cell_type": "code",
   "execution_count": 1,
   "id": "ed415385",
   "metadata": {},
   "outputs": [],
   "source": [
    "import os\n",
    "import zipfile\n",
    "from kaggle.api.kaggle_api_extended import KaggleApi"
   ]
  },
  {
   "cell_type": "code",
   "execution_count": 2,
   "id": "470c6fb8",
   "metadata": {},
   "outputs": [],
   "source": [
    "# --- Configuration ---\n",
    "# Defining the root directory for our data.\n",
    "DATA_DIR = '../data/'\n",
    "# Specify the Kaggle dataset we want to download.\n",
    "# We are using a version of the PlantVillage dataset.\n",
    "DATASET_NAME = 'vipoooool/new-plant-diseases-dataset'\n",
    "# Define the path where the downloaded dataset will be stored.\n",
    "DOWNLOAD_PATH = os.path.join(DATA_DIR, 'plantvillage_raw')"
   ]
  },
  {
   "cell_type": "markdown",
   "id": "df32d14f",
   "metadata": {},
   "source": [
    "# --- Main Execution ---"
   ]
  },
  {
   "cell_type": "code",
   "execution_count": 3,
   "id": "63cd36b7",
   "metadata": {},
   "outputs": [
    {
     "name": "stdout",
     "output_type": "stream",
     "text": [
      "Kaggle API authenticated successfully.\n"
     ]
    }
   ],
   "source": [
    "# 1. Initialize the Kaggle API\n",
    "api = KaggleApi()\n",
    "api.authenticate()\n",
    "print(\"Kaggle API authenticated successfully.\")"
   ]
  },
  {
   "cell_type": "code",
   "execution_count": 4,
   "id": "ae0df989",
   "metadata": {},
   "outputs": [
    {
     "name": "stdout",
     "output_type": "stream",
     "text": [
      "Directory '../data/plantvillage_raw' created or already exists.\n"
     ]
    }
   ],
   "source": [
    "# 2. Create the directory if it doesn't exist\n",
    "os.makedirs(DOWNLOAD_PATH, exist_ok=True)\n",
    "print(f\"Directory '{DOWNLOAD_PATH}' created or already exists.\")"
   ]
  },
  {
   "cell_type": "code",
   "execution_count": 5,
   "id": "eb714b20",
   "metadata": {},
   "outputs": [
    {
     "name": "stdout",
     "output_type": "stream",
     "text": [
      "Downloading dataset 'vipoooool/new-plant-diseases-dataset'...\n",
      "Dataset URL: https://www.kaggle.com/datasets/vipoooool/new-plant-diseases-dataset\n",
      "Downloading new-plant-diseases-dataset.zip to ../data/plantvillage_raw\n"
     ]
    },
    {
     "name": "stderr",
     "output_type": "stream",
     "text": [
      "100%|██████████| 2.70G/2.70G [00:05<00:00, 565MB/s]\n"
     ]
    },
    {
     "name": "stdout",
     "output_type": "stream",
     "text": [
      "\n",
      "Download complete.\n"
     ]
    }
   ],
   "source": [
    "# 3. Download the dataset\n",
    "print(f\"Downloading dataset '{DATASET_NAME}'...\")\n",
    "api.dataset_download_files(DATASET_NAME, path=DOWNLOAD_PATH, quiet=False)\n",
    "print(\"Download complete.\")"
   ]
  },
  {
   "cell_type": "code",
   "execution_count": 3,
   "id": "3437cbd4",
   "metadata": {},
   "outputs": [],
   "source": [
    "# 4. Unzip the downloaded file\n",
    "# The downloaded file is typically named after the dataset.\n",
    "zip_file_name = DATASET_NAME.split('/')[1] + '.zip'\n",
    "zip_file_path = os.path.join(DOWNLOAD_PATH, zip_file_name)"
   ]
  },
  {
   "cell_type": "code",
   "execution_count": 4,
   "id": "0eaea622",
   "metadata": {},
   "outputs": [
    {
     "name": "stdout",
     "output_type": "stream",
     "text": [
      "Unzipping '../data/plantvillage_raw\\new-plant-diseases-dataset.zip'...\n",
      "Unzipping complete.\n"
     ]
    }
   ],
   "source": [
    "print(f\"Unzipping '{zip_file_path}'...\")\n",
    "with zipfile.ZipFile(zip_file_path, 'r') as zip_ref:\n",
    "    zip_ref.extractall(DOWNLOAD_PATH)\n",
    "print(\"Unzipping complete.\")"
   ]
  },
  {
   "cell_type": "code",
   "execution_count": 5,
   "id": "ecbc9d3a",
   "metadata": {},
   "outputs": [
    {
     "name": "stdout",
     "output_type": "stream",
     "text": [
      "Removed zip file: '../data/plantvillage_raw\\new-plant-diseases-dataset.zip'.\n",
      "\n",
      "Step 1 finished. The PlantVillage dataset is ready.\n"
     ]
    }
   ],
   "source": [
    "# 5. Clean up the zip file to save space\n",
    "os.remove(zip_file_path)\n",
    "print(f\"Removed zip file: '{zip_file_path}'.\")\n",
    "\n",
    "print(\"\\nStep 1 finished. The PlantVillage dataset is ready.\")"
   ]
  },
  {
   "cell_type": "code",
   "execution_count": null,
   "id": "70aa921f",
   "metadata": {},
   "outputs": [],
   "source": []
  }
 ],
 "metadata": {
  "kernelspec": {
   "display_name": "venv (3.12.6)",
   "language": "python",
   "name": "python3"
  },
  "language_info": {
   "codemirror_mode": {
    "name": "ipython",
    "version": 3
   },
   "file_extension": ".py",
   "mimetype": "text/x-python",
   "name": "python",
   "nbconvert_exporter": "python",
   "pygments_lexer": "ipython3",
   "version": "3.12.6"
  }
 },
 "nbformat": 4,
 "nbformat_minor": 5
}
